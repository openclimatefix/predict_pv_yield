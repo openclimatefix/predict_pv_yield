{
 "cells": [
  {
   "cell_type": "markdown",
   "id": "9b83268f",
   "metadata": {},
   "source": [
    "# Data Exploration\n",
    "\n",
    "The idea of this notebook is to explore the data in the satelite images that come in. Aim to explore the different channels of the satelite data as well and understand the strcuture of the data produced by the 'data generator'. \n",
    "\n",
    "*Unclear if this work has been done before, but still useful to explore the data for myself"
   ]
  },
  {
   "cell_type": "code",
   "execution_count": 29,
   "id": "d9c99c3c",
   "metadata": {},
   "outputs": [],
   "source": [
    "import os\n",
    "from predict_pv_yield.netcdf_dataset import NetCDFDataset, SAT_VARIABLE_NAMES\n",
    "import plotly.graph_objects as go\n",
    "import plotly\n",
    "import pandas as pd\n",
    "\n",
    "DATA_PATH = 'gs://solar-pv-nowcasting-data/prepared_ML_training_data/v4/'\n",
    "TEMP_PATH = '.'"
   ]
  },
  {
   "cell_type": "code",
   "execution_count": 30,
   "id": "4f68e83b",
   "metadata": {},
   "outputs": [],
   "source": [
    "# set up data generator\n",
    "\n",
    "train_dataset = NetCDFDataset(\n",
    "    24_900,\n",
    "    os.path.join(DATA_PATH, 'train'),\n",
    "    os.path.join(TEMP_PATH, 'train'))\n",
    "\n",
    "train_dataset.per_worker_init(1)\n",
    "train_dataset_iterator = iter(train_dataset)"
   ]
  },
  {
   "cell_type": "code",
   "execution_count": 31,
   "id": "da9c61f9",
   "metadata": {},
   "outputs": [],
   "source": [
    "# get batch of data, this may take a few seconds to run\n",
    "data = next(train_dataset_iterator)"
   ]
  },
  {
   "cell_type": "code",
   "execution_count": 32,
   "id": "1db888b5",
   "metadata": {},
   "outputs": [],
   "source": [
    "# get the timestamp of the image\n",
    "sat_datetime = pd.to_datetime(data['sat_datetime_index'][0, 0],unit='s')"
   ]
  },
  {
   "cell_type": "code",
   "execution_count": 33,
   "id": "d5ff43ff",
   "metadata": {},
   "outputs": [
    {
     "name": "stdout",
     "output_type": "stream",
     "text": [
      "['sat_datetime_index', 'nwp_target_time', 'nwp', 'nwp_x_coords', 'nwp_y_coords', 'sat_data', 'sat_x_coords', 'sat_y_coords', 'pv_yield', 'pv_system_id', 'pv_system_row_number', 'pv_system_x_coords', 'pv_system_y_coords', 'x_meters_center', 'y_meters_center', 'hour_of_day_sin', 'hour_of_day_cos', 'day_of_year_sin', 'day_of_year_cos']\n",
      "\n",
      "Shape of data\n",
      "sat_datetime_index (32, 19)\n",
      "nwp_target_time (32, 19)\n",
      "nwp (32, 10, 19, 2, 2)\n",
      "nwp_x_coords (32, 2)\n",
      "nwp_y_coords (32, 2)\n",
      "sat_data (32, 19, 64, 64, 12)\n",
      "sat_x_coords (32, 64)\n",
      "sat_y_coords (32, 64)\n",
      "pv_yield (32, 19, 128)\n",
      "pv_system_id (32, 128)\n",
      "pv_system_row_number (32, 128)\n",
      "pv_system_x_coords (32, 128)\n",
      "pv_system_y_coords (32, 128)\n",
      "x_meters_center (32,)\n",
      "y_meters_center (32,)\n",
      "hour_of_day_sin (32, 19)\n",
      "hour_of_day_cos (32, 19)\n",
      "day_of_year_sin (32, 19)\n",
      "day_of_year_cos (32, 19)\n"
     ]
    }
   ],
   "source": [
    "print(list(data.keys()))\n",
    "\n",
    "print('')      \n",
    "print('Shape of data')\n",
    "for k,v in data.items():\n",
    "    print(k,v.shape)\n"
   ]
  }
 ],
 "metadata": {
  "kernelspec": {
   "display_name": "Python 3 (ipykernel)",
   "language": "python",
   "name": "python3"
  },
  "language_info": {
   "codemirror_mode": {
    "name": "ipython",
    "version": 3
   },
   "file_extension": ".py",
   "mimetype": "text/x-python",
   "name": "python",
   "nbconvert_exporter": "python",
   "pygments_lexer": "ipython3",
   "version": "3.9.6"
  }
 },
 "nbformat": 4,
 "nbformat_minor": 5
}
