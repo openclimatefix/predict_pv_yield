{
 "cells": [
  {
   "cell_type": "code",
   "execution_count": 1,
   "id": "2c400f8b-0064-4b91-805a-e0014f3a3bdc",
   "metadata": {},
   "outputs": [],
   "source": [
    "from pathlib import Path\n",
    "\n",
    "import torch\n",
    "from torch.utils import data\n",
    "from torch import nn\n",
    "import torch.nn.functional as F\n",
    "import pytorch_lightning as pl\n",
    "from pytorch_lightning.loggers import NeptuneLogger\n",
    "import einops\n",
    "\n",
    "from dataclasses import dataclass\n",
    "from typing import Iterable\n",
    "import xarray as xr\n",
    "from concurrent import futures\n",
    "import pandas as pd\n",
    "import numpy as np\n",
    "import matplotlib.pyplot as plt\n",
    "import matplotlib.ticker as mticker\n",
    "from itertools import chain\n",
    "\n",
    "from nowcasting_dataloader.data_sources.satellite.satellite_model import SAT_MEAN, SAT_STD"
   ]
  },
  {
   "cell_type": "code",
   "execution_count": 2,
   "id": "b6fade99-4a66-4d68-87c7-49eb2e409959",
   "metadata": {},
   "outputs": [],
   "source": [
    "DATA_PATH = Path(\"/mnt/storage_ssd_4tb/data/ocf/solar_pv_nowcasting/nowcasting_dataset_pipeline/prepared_ML_training_data/v15\")\n",
    "\n",
    "SATELLITE_CHANNELS = (\n",
    "    \"IR_016\",\n",
    "    \"IR_039\",\n",
    "    \"IR_087\",\n",
    "    \"IR_097\",\n",
    "    \"IR_108\",\n",
    "    \"IR_120\",\n",
    "    \"IR_134\",\n",
    "    \"VIS006\",\n",
    "    \"VIS008\",\n",
    "    \"WV_062\",\n",
    "    \"WV_073\",\n",
    ")"
   ]
  },
  {
   "cell_type": "code",
   "execution_count": 3,
   "id": "97423b8f-dced-4159-be58-d4c37bf0fe1a",
   "metadata": {},
   "outputs": [],
   "source": [
    "def satellite_normalisation_stats_to_data_array(stat: dict) -> xr.DataArray:\n",
    "    return xr.DataArray(\n",
    "        [stat[chan_name] for chan_name in SATELLITE_CHANNELS],\n",
    "        dims=\"channels_index\",\n",
    "    ).astype(np.float32)\n",
    "\n",
    "SAT_MEAN = satellite_normalisation_stats_to_data_array(SAT_MEAN)\n",
    "SAT_STD = satellite_normalisation_stats_to_data_array(SAT_STD)"
   ]
  },
  {
   "cell_type": "code",
   "execution_count": 4,
   "id": "0d7e8118-d999-489f-b915-f17ee75625e6",
   "metadata": {},
   "outputs": [],
   "source": [
    "def align_time(src: xr.Dataset, dst: xr.Dataset) -> xr.DataArray:\n",
    "    \"\"\"Align `dst` to have the same `time` coords as `src.time`.\n",
    "    \n",
    "    For example, use this to ensure that batch['opticalflow'] has the same\n",
    "    time coords as batch['gsp'].\n",
    "    \"\"\"\n",
    "    # I tried a bunch of \"vectorised\" ways of doing this.  This appears to be the\n",
    "    # only way of doing it.  The issue is that each example ends up having different\n",
    "    # time_index coords so, in order to align, we must reset the \"time_index\" of each example.\n",
    "    # We take the satellite image _15 minutes_ before the GSP data, because the GSP data is\n",
    "    # the average power for the half-hour-ending.\n",
    "    time_index = src.time - pd.Timedelta(\"15 minutes\")\n",
    "    n_timesteps = src.time.shape[1]\n",
    "    time_index_bool_mask = dst.time.isin(time_index)\n",
    "    data_arrays_for_examples = []\n",
    "    n_examples = len(time_index_bool_mask)\n",
    "    for example_i in range(n_examples):\n",
    "        selection = dst[\"data\"].isel(example=example_i, time_index=time_index_bool_mask[example_i])\n",
    "        # Ensure there are never too many timesteps\n",
    "        selection = selection.isel(time_index=slice(None, n_timesteps))\n",
    "        selection.__setitem__(\"time_index\", np.arange(len(selection[\"time_index\"])))\n",
    "        data_arrays_for_examples.append(selection)\n",
    "        \n",
    "    new_dst = xr.concat(data_arrays_for_examples, dim=\"example\")\n",
    "    return new_dst"
   ]
  },
  {
   "cell_type": "code",
   "execution_count": 5,
   "id": "64fdc69e-ab1f-467c-942e-38465bf045d7",
   "metadata": {},
   "outputs": [],
   "source": [
    "@dataclass\n",
    "class SimpleNowcastingDataset(data.Dataset):\n",
    "    \"\"\"\n",
    "    Attributes:\n",
    "        data_path: Base path to the pre-prepared dataset.  e.g. .../v15/train/\n",
    "        data_source_names: The names of the data sources.  Must also be the names of the subdirectory.  \n",
    "            Must include \"gsp\".\n",
    "        gsp_first_time_index_of_future: The index into the GSP time_index dimension that marks the start of the \"future\".\n",
    "        n_batches: The number of available batches.\n",
    "    \"\"\"\n",
    "    data_path: Path\n",
    "    data_source_names: Iterable[str]\n",
    "    gsp_first_time_index_of_future: int = 2\n",
    "    \n",
    "    def __post_init__(self):\n",
    "        # Sanity checks\n",
    "        assert self.data_path.exists()\n",
    "        assert len(self.data_source_names) > 0\n",
    "        assert \"gsp\" in self.data_source_names\n",
    "        self.n_batches = self._get_number_of_batches()\n",
    "        \n",
    "    def _get_number_of_batches(self) -> int:\n",
    "        \"\"\"Get number of batches.  Check every data source.\"\"\"\n",
    "        n_batches = None\n",
    "        for data_source_name in self.data_source_names:\n",
    "            path_for_data_source = self.data_path / data_source_name\n",
    "            n_batches_for_data_source = len(list(path_for_data_source.glob(\"*.nc\")))\n",
    "            if n_batches is None:\n",
    "                n_batches = n_batches_for_data_source\n",
    "            else:\n",
    "                assert n_batches == n_batches_for_data_source\n",
    "        assert n_batches is not None\n",
    "        assert n_batches > 0\n",
    "        return n_batches\n",
    "    \n",
    "    def __len__(self) -> int:\n",
    "        return self.n_batches\n",
    "    \n",
    "    def __getitem__(self, idx: int):\n",
    "        \"\"\"\n",
    "        Returned shapes:\n",
    "            gsp: batch_size, n_timesteps\n",
    "            opticalflow: \"example\", \"time_index\", \"channels_index\",  \"y_index\", \"x_index\"\n",
    "        \"\"\"\n",
    "        data_from_all_sources = {}\n",
    "        # Parallelising this with concurrent.futures.ThreadPoolExecutor actually\n",
    "        # appears to be _slower_ than the simple loop approach!\n",
    "        for data_source_name in self.data_source_names:\n",
    "            filename = self.data_path / data_source_name / f\"{idx:06d}.nc\"\n",
    "            dataset = xr.open_dataset(filename)\n",
    "            \n",
    "            # Select just the \"future\" timesteps at half-hour intervals (t1, t2, etc.)\n",
    "            # for the first GSP (the \"target\").\n",
    "            if data_source_name == \"gsp\":\n",
    "                dataset = dataset.isel(\n",
    "                    time_index=slice(self.gsp_first_time_index_of_future, None),\n",
    "                    id_index=0\n",
    "                ).load()\n",
    "                # Normalise GSP\n",
    "                dataset[\"data\"] = dataset[\"power_mw\"] / dataset[\"capacity_mwp\"]\n",
    "                dataset[\"data\"] = dataset[\"data\"].astype(np.float32)\n",
    "                \n",
    "            if data_source_name == \"pv\":\n",
    "                dataset = dataset.isel(time_index=slice(None, 7))\n",
    "                dataset[\"data\"] = dataset[\"power_mw\"] / dataset[\"capacity_mwp\"]\n",
    "            \n",
    "            if data_source_name in [\"satellite\", \"opticalflow\"]:\n",
    "                # Normalise satellite and opticalflow\n",
    "                dataset[\"data\"] = dataset[\"data\"].astype(np.float32)\n",
    "                dataset[\"data\"] -= SAT_MEAN\n",
    "                dataset[\"data\"] /= SAT_STD\n",
    "                dataset[\"data\"] = dataset[\"data\"].transpose(\"example\", \"time_index\", \"channels_index\", \"y_index\", \"x_index\")\n",
    "\n",
    "            data_from_all_sources[data_source_name] = dataset\n",
    "\n",
    "        if (\"satellite\" in self.data_source_names) and (\"opticalflow\" in self.data_source_names):\n",
    "            # Concatenate half an hour of satellite data to the start of the opticalflow data\n",
    "            # so we can use imagery 15 minutes before the GSP timestep, because the GSP data\n",
    "            # is half-hour-ending.\n",
    "            data_from_all_sources[\"opticalflow\"] = xr.concat(\n",
    "                (\n",
    "                    data_from_all_sources[\"satellite\"].isel(time_index=slice(None, 7)),\n",
    "                    data_from_all_sources[\"opticalflow\"]\n",
    "                ),\n",
    "                dim=\"time_index\",\n",
    "            )\n",
    "            \n",
    "        # Conform all other data sources to have the same time index as GSP\n",
    "        for data_source_name in self.data_source_names:\n",
    "            if data_source_name not in [\"gsp\", \"pv\"]:\n",
    "                data_from_all_sources[data_source_name] = align_time(\n",
    "                    src=data_from_all_sources[\"gsp\"],\n",
    "                    dst=data_from_all_sources[data_source_name].load())\n",
    "                \n",
    "        # Strip away everything that's not required by the PyTorch model\n",
    "        for data_source_name in self.data_source_names:\n",
    "            data = data_from_all_sources[data_source_name]\n",
    "            if data_source_name == \"gsp\":\n",
    "                data_from_all_sources[\"gsp_id\"] = torch.from_numpy(data[\"id\"].values.astype(np.int32))\n",
    "                data = data[\"data\"]\n",
    "                \n",
    "            if data_source_name == \"pv\":\n",
    "                data_from_all_sources[\"pv_system_id\"] = torch.from_numpy(data[\"id\"].values.astype(np.float32))\n",
    "                data_from_all_sources[\"pv_x_coords\"] = torch.from_numpy(data[\"x_coords\"].values.astype(np.float32))\n",
    "                data_from_all_sources[\"pv_y_coords\"] = torch.from_numpy(data[\"y_coords\"].values.astype(np.float32))\n",
    "                data = data[\"data\"]\n",
    "\n",
    "            # Check for NaNs\n",
    "            if np.isnan(data.values).any():\n",
    "                raise RuntimeError(f\"NaNs in {data_source_name} batch {idx}\")\n",
    "                \n",
    "            data_from_all_sources[data_source_name] = torch.from_numpy(data.values)\n",
    "            \n",
    "        if (\"satellite\" in data_from_all_sources) and (\"opticalflow\" in data_from_all_sources):\n",
    "            del data_from_all_sources[\"satellite\"]\n",
    "\n",
    "        return data_from_all_sources"
   ]
  },
  {
   "cell_type": "code",
   "execution_count": 6,
   "id": "08cdaecc-844e-4f2a-9e0e-b6add9d74176",
   "metadata": {},
   "outputs": [],
   "source": [
    "train_dataset = SimpleNowcastingDataset(\n",
    "    data_path=DATA_PATH / \"train\",\n",
    "    data_source_names=(\"gsp\", \"satellite\"),\n",
    ")"
   ]
  },
  {
   "cell_type": "code",
   "execution_count": 7,
   "id": "2322d32b-bc56-4c2c-b68a-8668410e988d",
   "metadata": {},
   "outputs": [
    {
     "data": {
      "text/plain": [
       "4000"
      ]
     },
     "execution_count": 7,
     "metadata": {},
     "output_type": "execute_result"
    }
   ],
   "source": [
    "len(train_dataset)"
   ]
  },
  {
   "cell_type": "code",
   "execution_count": 8,
   "id": "88d78bb4-e9ce-428e-932f-8ae1576e3395",
   "metadata": {},
   "outputs": [
    {
     "name": "stdout",
     "output_type": "stream",
     "text": [
      "CPU times: user 236 ms, sys: 18.2 ms, total: 255 ms\n",
      "Wall time: 259 ms\n"
     ]
    }
   ],
   "source": [
    "%%time\n",
    "batch = train_dataset[11]"
   ]
  },
  {
   "cell_type": "code",
   "execution_count": 9,
   "id": "2550d2b5-49ea-4969-b4ef-513321bf0592",
   "metadata": {},
   "outputs": [
    {
     "data": {
      "text/plain": [
       "tensor(0, dtype=torch.uint8)"
      ]
     },
     "execution_count": 9,
     "metadata": {},
     "output_type": "execute_result"
    }
   ],
   "source": [
    "np.isnan(batch[\"satellite\"]).any()"
   ]
  },
  {
   "cell_type": "code",
   "execution_count": null,
   "id": "28b21bb2-1a25-45e2-9ea1-1cb8b3da5d16",
   "metadata": {},
   "outputs": [],
   "source": [
    "len(plt.plot(batch[\"pv\"][0]))"
   ]
  },
  {
   "cell_type": "code",
   "execution_count": 21,
   "id": "f76d1934-729a-4379-a899-85c9011aba6a",
   "metadata": {},
   "outputs": [
    {
     "data": {
      "image/png": "[encoded data removed]",
      "text/plain": [
       "<Figure size 1440x720 with 4 Axes>"
      ]
     },
     "metadata": {
      "needs_background": "light"
     },
     "output_type": "display_data"
    }
   ],
   "source": [
    "def plot_imagery(tensor, example_i, channel_i):\n",
    "    fig, axes = plt.subplots(ncols=4, figsize=(20, 10))\n",
    "    # axes = list(chain.from_iterable(axes))\n",
    "    # \"example\", \"time_index\", \"channels_index\", \"y_index\", \"x_index\"\n",
    "    data_to_plot = tensor[example_i, :4, channel_i, :, :]\n",
    "    vmin = data_to_plot.min()\n",
    "    vmax = data_to_plot.max()\n",
    "    for time_index, ax in enumerate(axes):\n",
    "        ax.imshow(data_to_plot[time_index].numpy()[::-1], vmin=vmin, vmax=vmax)\n",
    "        ax.set_title(time_index)\n",
    "    return fig, axes\n",
    "\n",
    "EXAMPLE_I = 5\n",
    "CHANNEL_I = 7\n",
    "plot_imagery(batch[\"satellite\"], example_i=EXAMPLE_I, channel_i=CHANNEL_I);"
   ]
  },
  {
   "cell_type": "code",
   "execution_count": 22,
   "id": "40f2e234-84c1-4900-9b6b-cc974a2a0ca0",
   "metadata": {},
   "outputs": [
    {
     "data": {
      "image/png": "[encoded data removed]",
      "text/plain": [
       "<Figure size 432x288 with 1 Axes>"
      ]
     },
     "metadata": {
      "needs_background": "light"
     },
     "output_type": "display_data"
    }
   ],
   "source": [
    "plt.plot(batch[\"gsp\"][EXAMPLE_I]);"
   ]
  },
  {
   "cell_type": "markdown",
   "id": "41f668ab-42e8-43dd-b0a8-db441509b720",
   "metadata": {},
   "source": [
    "## Put the dataset into a DataLoader"
   ]
  },
  {
   "cell_type": "code",
   "execution_count": 7,
   "id": "70700409-7e46-4992-8de3-3e99ec16deef",
   "metadata": {},
   "outputs": [],
   "source": [
    "dataloader_kwargs = dict(\n",
    "    batch_size=None,\n",
    "    num_workers=12,\n",
    "    pin_memory=True,\n",
    ")"
   ]
  },
  {
   "cell_type": "code",
   "execution_count": 8,
   "id": "0d24af29-69b5-49f4-9825-d85c9f4c491a",
   "metadata": {},
   "outputs": [],
   "source": [
    "train_dataloader = data.DataLoader(\n",
    "    train_dataset,\n",
    "    **dataloader_kwargs\n",
    ")"
   ]
  },
  {
   "cell_type": "code",
   "execution_count": 9,
   "id": "412ce4fe-e39e-4b9e-97a6-dd15a831b310",
   "metadata": {},
   "outputs": [],
   "source": [
    "test_dataloader = data.DataLoader(\n",
    "    SimpleNowcastingDataset(\n",
    "        data_path=DATA_PATH / \"test\",\n",
    "        data_source_names=(\"gsp\", \"satellite\"),\n",
    "    ),\n",
    "    **dataloader_kwargs\n",
    ")"
   ]
  },
  {
   "cell_type": "code",
   "execution_count": 27,
   "id": "79c784c1-5fe8-49b1-8b3d-a5772dad18b5",
   "metadata": {},
   "outputs": [
    {
     "name": "stdout",
     "output_type": "stream",
     "text": [
      "CPU times: user 54.8 ms, sys: 956 ms, total: 1.01 s\n",
      "Wall time: 2.17 s\n"
     ]
    }
   ],
   "source": [
    "%%time\n",
    "for batch in train_dataloader:\n",
    "    break"
   ]
  },
  {
   "cell_type": "markdown",
   "id": "840802e2-c9e5-4bd9-9fde-c1ca326b2a62",
   "metadata": {},
   "source": [
    "# Define the ML model\n",
    "\n",
    "Each input \"row\" to the Perceiver will look like this:\n",
    "\n",
    "Shape: batch_size, seq_len, embedding_dim\n",
    "\n",
    "Try to keep the constant-length things in the same position.  e.g. the modality embedding always comes first.  The position encoding always comes second (for modalities which have spatial positions).\n",
    "\n",
    "* Opticalflow: (just one channel at a time)\n",
    "    - learnt modality embedding (4)\n",
    "    - relative x and y position encoding (16)\n",
    "    - 4x4 patch of pixel values (16)\n",
    "    - learnt channel embedding (4)\n",
    "* PV:\n",
    "    - learnt modality embedding (4)\n",
    "    - relative x and y position encoding (16)\n",
    "    - entire historical timeseries for one PV system (7)\n",
    "    - learnt PV ID embedding (13)\n",
    "* Datetime:\n",
    "    - learnt modality embedding (4)\n",
    "    - all timesteps for forecast (4) x 9 features\n",
    "* The learnt \"query\" to the Perceiver:\n",
    "    - Embedding of the GSP ID?"
   ]
  },
  {
   "cell_type": "code",
   "execution_count": 10,
   "id": "148dbdcf-04cb-450a-bdb0-e5548d6ee4b3",
   "metadata": {},
   "outputs": [],
   "source": [
    "import math"
   ]
  },
  {
   "cell_type": "code",
   "execution_count": 11,
   "id": "ade9d61a-a532-4670-ba07-f6a2d3001d97",
   "metadata": {},
   "outputs": [],
   "source": [
    "def position_encoding(n_encoding_channels: int, seq_length: int = 24, period: float = 5.0) -> torch.Tensor:\n",
    "    \"\"\"\n",
    "    Args:\n",
    "       n_encoding_channels: The number of \"waves\" in the encoding.\n",
    "       seq_length: The sequence length.\n",
    "       period: A rough specification for the period.  The larger the number, \n",
    "           the longer the period of the longest sin and cos waves.\n",
    "           \n",
    "    Returns:\n",
    "        Tensor of shape (seq_length, n_encoding_channels)\n",
    "    Adapted from https://pytorch.org/tutorials/beginner/transformer_tutorial.html\n",
    "    \"\"\"\n",
    "    position = torch.arange(seq_length).unsqueeze(1) * 2\n",
    "    div_term = torch.exp(torch.arange(0, n_encoding_channels, 2) * (-math.log(period) / n_encoding_channels))\n",
    "    pe = torch.empty(seq_length, n_encoding_channels)\n",
    "    pe[:, 0::2] = torch.sin(position * div_term)\n",
    "    pe[:, 1::2] = torch.cos(position * div_term)\n",
    "    return pe"
   ]
  },
  {
   "cell_type": "code",
   "execution_count": 12,
   "id": "670b2085-589b-4d03-864c-fda563a4c466",
   "metadata": {},
   "outputs": [
    {
     "name": "stdout",
     "output_type": "stream",
     "text": [
      "CPU times: user 3 ms, sys: 0 ns, total: 3 ms\n",
      "Wall time: 5.33 ms\n"
     ]
    }
   ],
   "source": [
    "%%time\n",
    "pe = position_encoding(n_encoding_channels=8, seq_length=6, period=3)"
   ]
  },
  {
   "cell_type": "code",
   "execution_count": 13,
   "id": "96cd6f27-df7c-486e-829a-abd1275420d4",
   "metadata": {},
   "outputs": [
    {
     "data": {
      "text/plain": [
       "torch.Size([6, 8])"
      ]
     },
     "execution_count": 13,
     "metadata": {},
     "output_type": "execute_result"
    }
   ],
   "source": [
    "pe.shape"
   ]
  },
  {
   "cell_type": "code",
   "execution_count": 14,
   "id": "583c18aa-c07c-444f-a20a-0146b47b0409",
   "metadata": {},
   "outputs": [
    {
     "data": {
      "image/png": "[encoded data removed]",
      "text/plain": [
       "<Figure size 432x288 with 1 Axes>"
      ]
     },
     "metadata": {
      "needs_background": "light"
     },
     "output_type": "display_data"
    }
   ],
   "source": [
    "plt.plot(pe);"
   ]
  },
  {
   "cell_type": "code",
   "execution_count": 15,
   "id": "c4ecccdf-23a0-4b3f-8256-13847c9c7c0d",
   "metadata": {},
   "outputs": [],
   "source": [
    "def plot_timeseries(actual: torch.Tensor, predicted: torch.Tensor) -> plt.Figure:\n",
    "    predicted = predicted.squeeze()\n",
    "    fig, axes = plt.subplots(nrows=8, ncols=4, figsize=(20, 20))\n",
    "    axes = list(chain.from_iterable(axes))\n",
    "    for example_i, ax in enumerate(axes):\n",
    "        ax.plot(predicted[example_i].detach().cpu(), label=\"predicted\")\n",
    "        ax.plot(actual[example_i].detach().cpu(), label=\"actual\")\n",
    "        ax.xaxis.set_major_locator(mticker.MultipleLocator(1))\n",
    "        ax.xaxis.set_major_formatter(mticker.FuncFormatter(lambda x, _: f\"{(int(x)+1)*30:d} min\"))\n",
    "        ax.set_ylim(0, 1)\n",
    "        ax.legend()\n",
    "    return fig"
   ]
  },
  {
   "cell_type": "code",
   "execution_count": 32,
   "id": "a72eaab7-6781-44e1-8171-bf768d374bee",
   "metadata": {},
   "outputs": [],
   "source": [
    "class Model(pl.LightningModule):\n",
    "    def __init__(\n",
    "        self, \n",
    "        embed_dim_query: int = 128,  # TODO: Play with this number\n",
    "        num_elements_query: int = 32,\n",
    "        num_heads: int = 16,\n",
    "        num_latent_transformer_encoder_layers: int = 4,\n",
    "        dropout: float = 0.0,\n",
    "    ):\n",
    "        super().__init__()\n",
    "        self.embed_dim_query = embed_dim_query\n",
    "        self.num_elements_query = num_elements_query\n",
    "        \n",
    "        # Create position encoding vectors\n",
    "        self.register_buffer(\n",
    "            \"position_encoding\", \n",
    "            position_encoding(n_encoding_channels=8, seq_length=6, period=3))\n",
    "        \n",
    "        # PERCEIVER #################################\n",
    "        # Layers for the Perceiver model:\n",
    "        self.cross_attention = nn.MultiheadAttention(\n",
    "            embed_dim=embed_dim_query,\n",
    "            num_heads=num_heads,\n",
    "            dropout=dropout,\n",
    "            batch_first=True,\n",
    "            kdim=36,\n",
    "            vdim=36\n",
    "        )\n",
    "        \n",
    "        transformer_encoder_layer = nn.TransformerEncoderLayer(\n",
    "            d_model=embed_dim_query,\n",
    "            nhead=num_heads,\n",
    "            dropout=dropout,\n",
    "            batch_first=True\n",
    "        )\n",
    "        self.latent_transformer = nn.TransformerEncoder(\n",
    "            encoder_layer=transformer_encoder_layer,\n",
    "            num_layers=num_latent_transformer_encoder_layers,\n",
    "        )\n",
    "        \n",
    "        \n",
    "        # Feed forwards output layers #################################\n",
    "        self.output_layers = nn.Sequential(\n",
    "            nn.Linear(in_features=num_elements_query * embed_dim_query, out_features=embed_dim_query),\n",
    "            nn.ReLU(),\n",
    "            nn.Linear(in_features=embed_dim_query, out_features=1),\n",
    "        )\n",
    "        \n",
    "        self.satellite_chan_embedding = nn.Embedding(\n",
    "            num_embeddings=11,  # number channels\n",
    "            embedding_dim=4,\n",
    "        )\n",
    "        \n",
    "        # EMBEDDING THE GSP ID AND USE THAT AS THE LEARNABLE QUERY ######################\n",
    "        self.query = torch.randn(\n",
    "            (num_elements_query, embed_dim_query), \n",
    "            requires_grad=True,\n",
    "        )\n",
    "        \n",
    "        self.gsp_id_embedding = nn.Embedding(\n",
    "            num_embeddings=350,  # number of GSPs\n",
    "            embedding_dim=36,\n",
    "        )\n",
    "        #self.query_generator = nn.Sequential(\n",
    "        #    nn.Linear(in_features=16, out_features=16),\n",
    "        #    nn.ReLU(),\n",
    "        #    nn.Linear(in_features=16, out_features=16),\n",
    "        #    nn.ReLU(),\n",
    "        #    nn.Linear(in_features=16, out_features=num_elements_query * embed_dim_query),\n",
    "        #    nn.ReLU(),\n",
    "        #)\n",
    "        \n",
    "    def forward(self, batch: dict[str, torch.Tensor]) -> torch.Tensor:\n",
    "        \"\"\"\n",
    "        Args:\n",
    "            batch: Contains these keys:\n",
    "                - opticalflow: Shape: batch_size, time, \"channels_index\", \"y_index\", \"x_index\"\n",
    "                \n",
    "        Returns:\n",
    "            Tensor of shape batch_size, time\n",
    "        \"\"\"\n",
    "        #######################################################\n",
    "        # GET DATA INTO THE RIGHT SHAPE #######################\n",
    "        opticalflow = batch[\"satellite\"]\n",
    "        original_batch_size, original_seq_len = opticalflow.shape[:2]\n",
    "        \n",
    "        # Select just one channel for now\n",
    "        # opticalflow = opticalflow[:, :, 7:8]\n",
    "        \n",
    "        # Reshape so each timestep is seen as a separate example\n",
    "        opticalflow = einops.rearrange(opticalflow, \"b t c h w -> (b t) c h w\")\n",
    "        \n",
    "        # Take 4x4 patches of pixels:\n",
    "        # Adapted from https://github.com/openclimatefix/satflow/blob/main/satflow/models/utils.py#L54\n",
    "        opticalflow = einops.rearrange(opticalflow, \"b c (h dh) (w dw) -> b c h w (dh dw)\", dh=4, dw=4)\n",
    "        \n",
    "        b, c, h, w, d = opticalflow.shape\n",
    "        \n",
    "        # Encode the channel\n",
    "        chan_list = torch.arange(c, device=opticalflow.device)\n",
    "        embedded_chan_list = self.satellite_chan_embedding(chan_list)    \n",
    "    \n",
    "        # Concat position encoding for the height and width:\n",
    "        opticalflow = torch.cat(\n",
    "            (\n",
    "                # Position encode the height:\n",
    "                # (\"d\" is the dimensionality of the Perceiver model)\n",
    "                einops.repeat(self.position_encoding, \"h d -> b c h w d\", b=b, c=c, w=w),\n",
    "                # Position encode the width:\n",
    "                einops.repeat(self.position_encoding, \"w d -> b c h w d\", b=b, c=c, h=h),\n",
    "                opticalflow,\n",
    "                einops.repeat(embedded_chan_list, \"c d -> b c h w d\", b=b, c=c, h=h, w=w),\n",
    "            ),\n",
    "            dim=-1)\n",
    "        # opticalflow now has shape: b, c, h, w, d_model\n",
    "        # e.g. 128, 10, 6, 6, 32\n",
    "        \n",
    "        # Reshape into batch_size, perceiver element, perceiver element dim, ready for the perceiver\n",
    "        opticalflow = einops.rearrange(opticalflow, \"b c h w d -> b (c h w) d\")\n",
    "        \n",
    "        #######################################################\n",
    "        # CROSS ATTENTION! ####################################\n",
    "        \n",
    "        # Create query\n",
    "        # num_elements is the number of elements in the set that's fed into cross attention\n",
    "        # Embed the GSP ID \n",
    "        ##query = self.gsp_id_embedding(batch[\"gsp_id\"])\n",
    "        # Then put the embedding through a linear layer so the model can learn different queries\n",
    "        # for each element of the Transformer's input.\n",
    "        ##query = self.query_generator(query)\n",
    "        # Repeat for each timestep:\n",
    "        ##query = torch.repeat_interleave(query, repeats=original_seq_len, dim=0)\n",
    "        ##query = query.squeeze()\n",
    "        ##query = einops.repeat(\n",
    "        ##    query, \n",
    "        ##    \"b (num_elements embed_dim) -> b num_elements embed_dim\", \n",
    "        ##    b=b, \n",
    "        ##    num_elements=self.num_elements_query,\n",
    "        ##    embed_dim=self.embed_dim_query,\n",
    "        ##)\n",
    "        gsp_embedding = self.gsp_id_embedding(batch[\"gsp_id\"])\n",
    "        gsp_embedding = torch.repeat_interleave(gsp_embedding, repeats=original_seq_len, dim=0)\n",
    "        opticalflow = torch.cat(\n",
    "            (\n",
    "                opticalflow,\n",
    "                gsp_embedding.unsqueeze(1),\n",
    "            ),\n",
    "            dim=1,\n",
    "        )\n",
    "        self.query = self.query.to(device=self.device)\n",
    "        query = einops.repeat(\n",
    "            self.query, \n",
    "            \"num_elements embed_dim -> b num_elements embed_dim\", \n",
    "            b=b, \n",
    "            num_elements=self.num_elements_query,\n",
    "            embed_dim=self.embed_dim_query,\n",
    "        )\n",
    "        attn_output, attn_weights = self.cross_attention(query, key=opticalflow, value=opticalflow, need_weights=False)\n",
    "        del attn_weights  # Not used yet.\n",
    "        \n",
    "        # LATENT TRANSFORMER\n",
    "        attn_output = self.latent_transformer(attn_output)\n",
    "        \n",
    "        # LINEAR LAYERS\n",
    "        out = self.output_layers(einops.rearrange(attn_output, \"b s d -> b (s d)\"))\n",
    "        \n",
    "        # Reshape back to b, t, 1\n",
    "        return einops.rearrange(out, \"(b t) 1 -> b t 1\", b=original_batch_size, t=original_seq_len)\n",
    "\n",
    "    def training_step(self, batch, batch_idx):\n",
    "        actual_gsp_power = batch[\"gsp\"].unsqueeze(-1)\n",
    "        predicted_gsp_power = self(batch)\n",
    "        mse_loss = F.mse_loss(predicted_gsp_power, actual_gsp_power)\n",
    "        self.log(\"train/mse\", mse_loss)\n",
    "        return mse_loss\n",
    "    \n",
    "    def validation_step(self, batch, batch_idx):\n",
    "        actual_gsp_power = batch[\"gsp\"].unsqueeze(-1)\n",
    "        predicted_gsp_power = self(batch)\n",
    "        mse_loss = F.mse_loss(predicted_gsp_power, actual_gsp_power)\n",
    "        self.log(\"validation/mse\", mse_loss)\n",
    "        \n",
    "        # Log figure\n",
    "        if batch_idx < 3:\n",
    "            figure_name = f\"validation/plot/epoch={self.current_epoch};batch_idx={batch_idx}\"\n",
    "            fig = plot_timeseries(actual=batch[\"gsp\"], predicted=predicted_gsp_power)\n",
    "            self.logger.experiment[figure_name].log(fig)\n",
    "            plt.close(fig)\n",
    "\n",
    "        return mse_loss\n",
    "\n",
    "    def configure_optimizers(self):\n",
    "        optimizer = torch.optim.Adam(self.parameters(), lr=1e-4)\n",
    "        return optimizer"
   ]
  },
  {
   "cell_type": "code",
   "execution_count": 33,
   "id": "f39303e4-d885-48b4-ac62-77b2da663704",
   "metadata": {},
   "outputs": [],
   "source": [
    "model = Model()\n",
    "#model = Model.load_from_checkpoint(\"lightning_logs/version_19/checkpoints/epoch=281-step=1127999.ckpt\")"
   ]
  },
  {
   "cell_type": "code",
   "execution_count": 34,
   "id": "9d1964cd-6fe8-4211-a0da-7d8c84a63cc9",
   "metadata": {},
   "outputs": [
    {
     "data": {
      "text/plain": [
       "device(type='cpu')"
      ]
     },
     "execution_count": 34,
     "metadata": {},
     "output_type": "execute_result"
    }
   ],
   "source": [
    "model.device"
   ]
  },
  {
   "cell_type": "code",
   "execution_count": 18,
   "id": "e60d1467-66e3-482e-855b-33af3f798b73",
   "metadata": {},
   "outputs": [],
   "source": [
    "#model(batch).shape"
   ]
  },
  {
   "cell_type": "code",
   "execution_count": 19,
   "id": "89159408-4adc-4b30-9b74-6b1b7c7ae384",
   "metadata": {},
   "outputs": [
    {
     "name": "stdout",
     "output_type": "stream",
     "text": [
      "https://app.neptune.ai/OpenClimateFix/predict-pv-yield/e/PRED-590\n",
      "Remember to stop your run once you’ve finished logging your metadata (https://docs.neptune.ai/api-reference/run#stop). It will be stopped automatically only when the notebook kernel/interactive console is terminated.\n"
     ]
    }
   ],
   "source": [
    "neptune_logger = NeptuneLogger(\n",
    "    project=\"OpenClimateFix/predict-pv-yield\",\n",
    "    prefix=\"\"\n",
    ")"
   ]
  },
  {
   "cell_type": "code",
   "execution_count": 20,
   "id": "ee4637b7-8273-4fd7-a25d-d7cdfbecfd69",
   "metadata": {},
   "outputs": [
    {
     "name": "stderr",
     "output_type": "stream",
     "text": [
      "GPU available: True, used: True\n",
      "TPU available: False, using: 0 TPU cores\n",
      "IPU available: False, using: 0 IPUs\n"
     ]
    }
   ],
   "source": [
    "trainer = pl.Trainer(gpus=1, logger=neptune_logger)"
   ]
  },
  {
   "cell_type": "code",
   "execution_count": null,
   "id": "12a2c5fc-f4a5-456c-93c5-929da7947071",
   "metadata": {},
   "outputs": [
    {
     "name": "stderr",
     "output_type": "stream",
     "text": [
      "LOCAL_RANK: 0 - CUDA_VISIBLE_DEVICES: [0,1,2]\n",
      "\n",
      "  | Name                     | Type               | Params\n",
      "----------------------------------------------------------------\n",
      "0 | cross_attention          | MultiheadAttention | 42.5 K\n",
      "1 | latent_transformer       | TransformerEncoder | 2.4 M \n",
      "2 | output_layers            | Sequential         | 524 K \n",
      "3 | satellite_chan_embedding | Embedding          | 44    \n",
      "4 | gsp_id_embedding         | Embedding          | 12.6 K\n",
      "----------------------------------------------------------------\n",
      "3.0 M     Trainable params\n",
      "0         Non-trainable params\n",
      "3.0 M     Total params\n",
      "11.807    Total estimated model params size (MB)\n"
     ]
    },
    {
     "name": "stdout",
     "output_type": "stream",
     "text": [
      "Epoch 0:  46%|██████████████████████████████████████████████████████████████████████████▎                                                                                        | 2005/4400 [01:43<02:03, 19.39it/s, loss=0.0272, v_num=-590]"
     ]
    }
   ],
   "source": [
    "trainer.fit(model, train_dataloader, test_dataloader)"
   ]
  },
  {
   "cell_type": "code",
   "execution_count": 22,
   "id": "31c48b68-4974-4366-9e74-8d9b1a5956f2",
   "metadata": {},
   "outputs": [],
   "source": [
    "# Next: \n",
    "\n",
    "# Try dropout\n",
    "# Try cheating and using real satellite data\n",
    "# Add historical PV.  And datetime features.  And then NWPs."
   ]
  },
  {
   "cell_type": "code",
   "execution_count": null,
   "id": "c390d0c6-33aa-49f0-a855-bc69b4e252b5",
   "metadata": {},
   "outputs": [],
   "source": [
    "#"
   ]
  }
 ],
 "metadata": {
  "kernelspec": {
   "display_name": "predict_pv_yield",
   "language": "python",
   "name": "predict_pv_yield"
  },
  "language_info": {
   "codemirror_mode": {
    "name": "ipython",
    "version": 3
   },
   "file_extension": ".py",
   "mimetype": "text/x-python",
   "name": "python",
   "nbconvert_exporter": "python",
   "pygments_lexer": "ipython3",
   "version": "3.9.7"
  }
 },
 "nbformat": 4,
 "nbformat_minor": 5
}
