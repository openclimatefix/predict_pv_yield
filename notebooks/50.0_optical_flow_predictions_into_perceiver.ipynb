{
 "cells": [
  {
   "cell_type": "code",
   "execution_count": 1,
   "id": "2c400f8b-0064-4b91-805a-e0014f3a3bdc",
   "metadata": {},
   "outputs": [],
   "source": [
    "from pathlib import Path\n",
    "\n",
    "import torch\n",
    "from torch.utils import data\n",
    "from torch import nn\n",
    "import torch.nn.functional as F\n",
    "import pytorch_lightning as pl\n",
    "\n",
    "from dataclasses import dataclass\n",
    "from typing import Iterable\n",
    "import xarray as xr\n",
    "from concurrent import futures\n",
    "import pandas as pd\n",
    "import numpy as np\n",
    "import matplotlib.pyplot as plt\n",
    "\n",
    "from nowcasting_dataloader.data_sources.satellite.satellite_model import SAT_MEAN, SAT_STD"
   ]
  },
  {
   "cell_type": "code",
   "execution_count": 2,
   "id": "b6fade99-4a66-4d68-87c7-49eb2e409959",
   "metadata": {},
   "outputs": [],
   "source": [
    "DATA_PATH = Path(\"/mnt/storage_ssd_4tb/data/ocf/solar_pv_nowcasting/nowcasting_dataset_pipeline/prepared_ML_training_data/v15\")\n",
    "\n",
    "SATELLITE_CHANNELS = (\n",
    "    \"IR_016\",\n",
    "    \"IR_039\",\n",
    "    \"IR_087\",\n",
    "    \"IR_097\",\n",
    "    \"IR_108\",\n",
    "    \"IR_120\",\n",
    "    \"IR_134\",\n",
    "    \"VIS006\",\n",
    "    \"VIS008\",\n",
    "    \"WV_062\",\n",
    "    \"WV_073\",\n",
    ")"
   ]
  },
  {
   "cell_type": "code",
   "execution_count": 3,
   "id": "97423b8f-dced-4159-be58-d4c37bf0fe1a",
   "metadata": {},
   "outputs": [],
   "source": [
    "def satellite_normalisation_stats_to_data_array(stat: dict) -> xr.DataArray:\n",
    "    return xr.DataArray(\n",
    "        [stat[chan_name] for chan_name in SATELLITE_CHANNELS],\n",
    "        dims=\"channels_index\",\n",
    "    ).astype(np.float32)\n",
    "\n",
    "SAT_MEAN = satellite_normalisation_stats_to_data_array(SAT_MEAN)\n",
    "SAT_STD = satellite_normalisation_stats_to_data_array(SAT_STD)"
   ]
  },
  {
   "cell_type": "code",
   "execution_count": 4,
   "id": "0d7e8118-d999-489f-b915-f17ee75625e6",
   "metadata": {},
   "outputs": [],
   "source": [
    "def align_time(src: xr.Dataset, dst: xr.Dataset) -> xr.DataArray:\n",
    "    \"\"\"Align `dst` to have the same `time` coords as `src.time`.\n",
    "    \n",
    "    For example, use this to ensure that batch['opticalflow'] has the same\n",
    "    time coords as batch['gsp'].\n",
    "    \"\"\"\n",
    "    # I tried a bunch of \"vectorised\" ways of doing this.  This appears to be the\n",
    "    # only way of doing it.  The issue is that each example ends up having different\n",
    "    # time_index coords so, in order to align, we must reset the \"time_index\" of each example.\n",
    "    time_index_bool_mask = dst.time.isin(src.time)\n",
    "    data_arrays_for_examples = []\n",
    "    n_examples = len(time_index_bool_mask)\n",
    "    for example_i in range(n_examples):\n",
    "        selection = dst[\"data\"].isel(example=example_i, time_index=time_index_bool_mask[example_i])\n",
    "        selection.__setitem__(\"time_index\", np.arange(len(selection[\"time_index\"])))\n",
    "        data_arrays_for_examples.append(selection)\n",
    "        \n",
    "    new_dst = xr.concat(data_arrays_for_examples, dim=\"example\")\n",
    "    return new_dst"
   ]
  },
  {
   "cell_type": "code",
   "execution_count": 5,
   "id": "64fdc69e-ab1f-467c-942e-38465bf045d7",
   "metadata": {},
   "outputs": [],
   "source": [
    "@dataclass\n",
    "class SimpleNowcastingDataset(data.Dataset):\n",
    "    \"\"\"\n",
    "    Attributes:\n",
    "        data_path: Base path to the pre-prepared dataset.  e.g. .../v15/train/\n",
    "        data_source_names: The names of the data sources.  Must also be the names of the subdirectory.  \n",
    "            Must include \"gsp\".\n",
    "        gsp_first_time_index_of_future: The index into the GSP time_index dimension that marks the start of the \"future\".\n",
    "        n_batches: The number of available batches.\n",
    "    \"\"\"\n",
    "    data_path: Path\n",
    "    data_source_names: Iterable[str]\n",
    "    gsp_first_time_index_of_future: int = 2\n",
    "    \n",
    "    def __post_init__(self):\n",
    "        # Sanity checks\n",
    "        assert self.data_path.exists()\n",
    "        assert len(self.data_source_names) > 0\n",
    "        assert \"gsp\" in self.data_source_names\n",
    "        self.n_batches = self._get_number_of_batches()\n",
    "        \n",
    "    def _get_number_of_batches(self) -> int:\n",
    "        \"\"\"Get number of batches.  Check every data source.\"\"\"\n",
    "        n_batches = None\n",
    "        for data_source_name in self.data_source_names:\n",
    "            path_for_data_source = self.data_path / data_source_name\n",
    "            n_batches_for_data_source = len(list(path_for_data_source.glob(\"*.nc\")))\n",
    "            if n_batches is None:\n",
    "                n_batches = n_batches_for_data_source\n",
    "            else:\n",
    "                assert n_batches == n_batches_for_data_source\n",
    "        assert n_batches is not None\n",
    "        assert n_batches > 0\n",
    "        return n_batches\n",
    "    \n",
    "    def __len__(self) -> int:\n",
    "        return self.n_batches\n",
    "    \n",
    "    def __getitem__(self, idx: int):\n",
    "        \"\"\"\n",
    "        Returned shapes:\n",
    "            gsp: batch_size, n_timesteps\n",
    "            opticalflow: \"example\", \"time_index\", \"channels_index\",  \"y_index\", \"x_index\"\n",
    "        \"\"\"\n",
    "        data_from_all_sources = {}\n",
    "        # Parallelising this with concurrent.futures.ThreadPoolExecutor actually\n",
    "        # appears to be _slower_ than the simple loop approach!\n",
    "        for data_source_name in self.data_source_names:\n",
    "            filename = self.data_path / data_source_name / f\"{idx:06d}.nc\"\n",
    "            dataset = xr.open_dataset(filename)\n",
    "            \n",
    "            # Select just the \"future\" timesteps at half-hour intervals (t1, t2, etc.)\n",
    "            # for the first GSP (the \"target\").\n",
    "            if data_source_name == \"gsp\":\n",
    "                dataset = dataset.isel(\n",
    "                    time_index=slice(self.gsp_first_time_index_of_future, None),\n",
    "                    id_index=0\n",
    "                ).load()\n",
    "                # Normalise GSP\n",
    "                dataset[\"data\"] = dataset[\"power_mw\"] / dataset[\"capacity_mwp\"]\n",
    "                dataset[\"data\"] = dataset[\"data\"].astype(np.float32)\n",
    "            \n",
    "            if data_source_name in [\"satellite\", \"opticalflow\"]:\n",
    "                # Normalise satellite and opticalflow\n",
    "                dataset[\"data\"] = dataset[\"data\"].astype(np.float32)\n",
    "                dataset[\"data\"] -= SAT_MEAN\n",
    "                dataset[\"data\"] /= SAT_STD\n",
    "                \n",
    "                dataset[\"data\"] = dataset[\"data\"].transpose(\"example\", \"time_index\", \"channels_index\", \"y_index\", \"x_index\")\n",
    "\n",
    "            data_from_all_sources[data_source_name] = dataset\n",
    "\n",
    "        # Conform all other data sources to have the same time index as GSP\n",
    "        for data_source_name in self.data_source_names:\n",
    "            if data_source_name != \"gsp\":\n",
    "                data_from_all_sources[data_source_name] = align_time(\n",
    "                    src=data_from_all_sources[\"gsp\"],\n",
    "                    dst=data_from_all_sources[data_source_name].load())\n",
    "                \n",
    "        # Strip away everything that's not required by the PyTorch model\n",
    "        for data_source_name in self.data_source_names:\n",
    "            data = data_from_all_sources[data_source_name]\n",
    "            if data_source_name == \"gsp\":\n",
    "                data = data[\"data\"]\n",
    "\n",
    "            data_from_all_sources[data_source_name] = torch.from_numpy(data.values)\n",
    "\n",
    "        return data_from_all_sources"
   ]
  },
  {
   "cell_type": "code",
   "execution_count": 6,
   "id": "08cdaecc-844e-4f2a-9e0e-b6add9d74176",
   "metadata": {},
   "outputs": [],
   "source": [
    "train_dataset = SimpleNowcastingDataset(\n",
    "    data_path=DATA_PATH / \"train\",\n",
    "    data_source_names=(\"opticalflow\", \"gsp\", \"satellite\"),\n",
    ")"
   ]
  },
  {
   "cell_type": "code",
   "execution_count": 7,
   "id": "2322d32b-bc56-4c2c-b68a-8668410e988d",
   "metadata": {},
   "outputs": [
    {
     "data": {
      "text/plain": [
       "4000"
      ]
     },
     "execution_count": 7,
     "metadata": {},
     "output_type": "execute_result"
    }
   ],
   "source": [
    "len(train_dataset)"
   ]
  },
  {
   "cell_type": "code",
   "execution_count": 8,
   "id": "88d78bb4-e9ce-428e-932f-8ae1576e3395",
   "metadata": {},
   "outputs": [
    {
     "name": "stdout",
     "output_type": "stream",
     "text": [
      "CPU times: user 954 ms, sys: 72.7 ms, total: 1.03 s\n",
      "Wall time: 1.11 s\n"
     ]
    }
   ],
   "source": [
    "%%time\n",
    "batch = train_dataset[16]"
   ]
  },
  {
   "cell_type": "code",
   "execution_count": 9,
   "id": "17b06283-cec9-412e-80cf-dd84a8a2cf88",
   "metadata": {},
   "outputs": [
    {
     "data": {
      "text/plain": [
       "torch.Size([32, 4, 11, 24, 24])"
      ]
     },
     "execution_count": 9,
     "metadata": {},
     "output_type": "execute_result"
    }
   ],
   "source": [
    "batch[\"opticalflow\"].shape"
   ]
  },
  {
   "cell_type": "code",
   "execution_count": 10,
   "id": "fef24aa7-c229-48bc-827f-f6f62dd19e5a",
   "metadata": {},
   "outputs": [],
   "source": [
    "from itertools import chain"
   ]
  },
  {
   "cell_type": "code",
   "execution_count": 11,
   "id": "f76d1934-729a-4379-a899-85c9011aba6a",
   "metadata": {},
   "outputs": [
    {
     "data": {
      "image/png": "[encoded data removed]",
      "text/plain": [
       "<Figure size 1440x720 with 4 Axes>"
      ]
     },
     "metadata": {
      "needs_background": "light"
     },
     "output_type": "display_data"
    }
   ],
   "source": [
    "def plot_imagery(tensor, example_i, channel_i):\n",
    "    fig, axes = plt.subplots(ncols=4, figsize=(20, 10))\n",
    "    # axes = list(chain.from_iterable(axes))\n",
    "    # \"example\", \"time_index\", \"channels_index\", \"y_index\", \"x_index\"\n",
    "    data_to_plot = tensor[example_i, :4, channel_i, :, :]\n",
    "    vmin = data_to_plot.min()\n",
    "    vmax = data_to_plot.max()\n",
    "    for time_index, ax in enumerate(axes):\n",
    "        ax.imshow(data_to_plot[time_index].numpy()[::-1], vmin=vmin, vmax=vmax)\n",
    "        ax.set_title(time_index)\n",
    "    return fig, axes\n",
    "\n",
    "EXAMPLE_I = 9\n",
    "CHANNEL_I = 8\n",
    "plot_imagery(batch[\"satellite\"], example_i=EXAMPLE_I, channel_i=CHANNEL_I);"
   ]
  },
  {
   "cell_type": "code",
   "execution_count": 12,
   "id": "6d148ed8-1f62-48e6-8422-d229114dde53",
   "metadata": {},
   "outputs": [
    {
     "data": {
      "image/png": "[encoded data removed]",
      "text/plain": [
       "<Figure size 1440x720 with 4 Axes>"
      ]
     },
     "metadata": {
      "needs_background": "light"
     },
     "output_type": "display_data"
    }
   ],
   "source": [
    "plot_imagery(batch[\"opticalflow\"], example_i=EXAMPLE_I, channel_i=CHANNEL_I);"
   ]
  },
  {
   "cell_type": "code",
   "execution_count": 13,
   "id": "40f2e234-84c1-4900-9b6b-cc974a2a0ca0",
   "metadata": {},
   "outputs": [
    {
     "data": {
      "image/png": "[encoded data removed]",
      "text/plain": [
       "<Figure size 432x288 with 1 Axes>"
      ]
     },
     "metadata": {
      "needs_background": "light"
     },
     "output_type": "display_data"
    }
   ],
   "source": [
    "plt.plot(batch[\"gsp\"][EXAMPLE_I]);"
   ]
  },
  {
   "cell_type": "markdown",
   "id": "41f668ab-42e8-43dd-b0a8-db441509b720",
   "metadata": {},
   "source": [
    "## Put the dataset into a DataLoader"
   ]
  },
  {
   "cell_type": "code",
   "execution_count": 31,
   "id": "0d24af29-69b5-49f4-9825-d85c9f4c491a",
   "metadata": {},
   "outputs": [],
   "source": [
    "train_dataloader = data.DataLoader(\n",
    "    train_dataset,\n",
    "    batch_size=None,\n",
    "    #prefetch_factor=8,\n",
    "    num_workers=8\n",
    ")"
   ]
  },
  {
   "cell_type": "code",
   "execution_count": 15,
   "id": "79c784c1-5fe8-49b1-8b3d-a5772dad18b5",
   "metadata": {},
   "outputs": [
    {
     "name": "stdout",
     "output_type": "stream",
     "text": [
      "CPU times: user 556 ms, sys: 28 ms, total: 584 ms\n",
      "Wall time: 605 ms\n"
     ]
    }
   ],
   "source": [
    "%%time\n",
    "for batch in train_dataloader:\n",
    "    break"
   ]
  },
  {
   "cell_type": "markdown",
   "id": "840802e2-c9e5-4bd9-9fde-c1ca326b2a62",
   "metadata": {},
   "source": [
    "# Define the ML model\n",
    "\n",
    "Each input \"row\" to the Perceiver will look like this:\n",
    "\n",
    "Shape: batch_size, seq_len, embedding_dim\n",
    "\n",
    "Try to keep the constant-length things in the same position.  e.g. the modality embedding always comes first.  The position encoding always comes second (for modalities which have spatial positions).\n",
    "\n",
    "* Opticalflow: (just one channel at a time)\n",
    "    - learnt modality embedding (4)\n",
    "    - relative x and y position encoding (16)\n",
    "    - 4x4 patch of pixel values (16)\n",
    "    - learnt channel embedding (4)\n",
    "* PV:\n",
    "    - learnt modality embedding (4)\n",
    "    - relative x and y position encoding (16)\n",
    "    - entire historical timeseries for one PV system (7)\n",
    "    - learnt PV ID embedding (13)\n",
    "* Datetime:\n",
    "    - learnt modality embedding (4)\n",
    "    - all timesteps for forecast (4) x 9 features\n",
    "* The learnt \"query\" to the Perceiver:\n",
    "    - Embedding of the GSP ID?"
   ]
  },
  {
   "cell_type": "code",
   "execution_count": 16,
   "id": "148dbdcf-04cb-450a-bdb0-e5548d6ee4b3",
   "metadata": {},
   "outputs": [],
   "source": [
    "import math"
   ]
  },
  {
   "cell_type": "code",
   "execution_count": 17,
   "id": "ade9d61a-a532-4670-ba07-f6a2d3001d97",
   "metadata": {},
   "outputs": [],
   "source": [
    "def position_encoding(n_encoding_channels: int, seq_length: int = 24, period: float = 5.0) -> torch.Tensor:\n",
    "    \"\"\"\n",
    "    Args:\n",
    "       n_encoding_channels: The number of \"waves\" in the encoding.\n",
    "       seq_length: The sequence length.\n",
    "       period: A rough specification for the period.  The larger the number, \n",
    "           the longer the period of the longest sin and cos waves.\n",
    "           \n",
    "    Returns:\n",
    "        Tensor of shape (seq_length, n_encoding_channels)\n",
    "    Adapted from https://pytorch.org/tutorials/beginner/transformer_tutorial.html\n",
    "    \"\"\"\n",
    "    position = torch.arange(seq_length).unsqueeze(1) * 2\n",
    "    div_term = torch.exp(torch.arange(0, n_encoding_channels, 2) * (-math.log(period) / n_encoding_channels))\n",
    "    pe = torch.empty(seq_length, n_encoding_channels)\n",
    "    pe[:, 0::2] = torch.sin(position * div_term)\n",
    "    pe[:, 1::2] = torch.cos(position * div_term)\n",
    "    return pe"
   ]
  },
  {
   "cell_type": "code",
   "execution_count": 18,
   "id": "670b2085-589b-4d03-864c-fda563a4c466",
   "metadata": {},
   "outputs": [
    {
     "name": "stdout",
     "output_type": "stream",
     "text": [
      "CPU times: user 1.75 ms, sys: 321 µs, total: 2.07 ms\n",
      "Wall time: 1.29 ms\n"
     ]
    }
   ],
   "source": [
    "%%time\n",
    "pe = position_encoding(n_encoding_channels=8, seq_length=6, period=3)"
   ]
  },
  {
   "cell_type": "code",
   "execution_count": 19,
   "id": "96cd6f27-df7c-486e-829a-abd1275420d4",
   "metadata": {},
   "outputs": [
    {
     "data": {
      "text/plain": [
       "torch.Size([6, 8])"
      ]
     },
     "execution_count": 19,
     "metadata": {},
     "output_type": "execute_result"
    }
   ],
   "source": [
    "pe.shape"
   ]
  },
  {
   "cell_type": "code",
   "execution_count": 20,
   "id": "583c18aa-c07c-444f-a20a-0146b47b0409",
   "metadata": {},
   "outputs": [
    {
     "data": {
      "image/png": "[encoded data removed]",
      "text/plain": [
       "<Figure size 432x288 with 1 Axes>"
      ]
     },
     "metadata": {
      "needs_background": "light"
     },
     "output_type": "display_data"
    }
   ],
   "source": [
    "plt.plot(pe);"
   ]
  },
  {
   "cell_type": "code",
   "execution_count": 21,
   "id": "76fb31dd-6e56-42b8-9a84-d3280819e37f",
   "metadata": {},
   "outputs": [],
   "source": [
    "import einops"
   ]
  },
  {
   "cell_type": "code",
   "execution_count": 27,
   "id": "a72eaab7-6781-44e1-8171-bf768d374bee",
   "metadata": {},
   "outputs": [],
   "source": [
    "class Model(pl.LightningModule):\n",
    "    def __init__(\n",
    "        self, \n",
    "        embed_dim: int = 128,  # TODO: Play with this number\n",
    "        num_heads: int = 8,\n",
    "        num_latent_transformer_encoder_layers: int = 4,\n",
    "        dropout: float = 0.0,\n",
    "    ):\n",
    "        super().__init__()\n",
    "        \n",
    "        # Create position encoding vectors\n",
    "        self.register_buffer(\n",
    "            \"position_encoding\", \n",
    "            position_encoding(n_encoding_channels=8, seq_length=6, period=3))\n",
    "        \n",
    "        # Layers for the Perceiver model:\n",
    "        self.cross_attention = nn.MultiheadAttention(\n",
    "            embed_dim=embed_dim,\n",
    "            num_heads=num_heads,\n",
    "            dropout=dropout,\n",
    "            batch_first=True,\n",
    "            kdim=32,\n",
    "            vdim=32\n",
    "        )\n",
    "        \n",
    "        transformer_encoder_layer = nn.TransformerEncoderLayer(\n",
    "            d_model=embed_dim,\n",
    "            nhead=num_heads,\n",
    "            dropout=dropout,\n",
    "            batch_first=True\n",
    "        )\n",
    "        self.latent_transformer = nn.TransformerEncoder(\n",
    "            encoder_layer=transformer_encoder_layer,\n",
    "            num_layers=num_latent_transformer_encoder_layers,\n",
    "        )\n",
    "        \n",
    "        # TODO: Change the query to be an embedding of the GSP ID?\n",
    "        self.query = nn.Parameter(torch.randn(embed_dim))\n",
    "        self.query.requires_grad = True\n",
    "        \n",
    "        # Linear output layers\n",
    "        self.output_layers = nn.Sequential(\n",
    "            nn.Linear(in_features=36 * embed_dim, out_features=embed_dim),\n",
    "            nn.ReLU(),\n",
    "            nn.Linear(in_features=embed_dim, out_features=embed_dim),\n",
    "            nn.ReLU(),\n",
    "            nn.Linear(in_features=embed_dim, out_features=embed_dim),\n",
    "            nn.ReLU(),\n",
    "            nn.Linear(in_features=embed_dim, out_features=1),\n",
    "        )\n",
    "        \n",
    "    def forward(self, batch: dict[str, torch.Tensor]) -> torch.Tensor:\n",
    "        \"\"\"\n",
    "        Args:\n",
    "            batch: Contains these keys:\n",
    "                - opticalflow: Shape: batch_size, time, \"channels_index\", \"y_index\", \"x_index\"\n",
    "                \n",
    "        Returns:\n",
    "            Tensor of shape batch_size, time\n",
    "        \"\"\"\n",
    "        #######################################################\n",
    "        # GET DATA INTO THE RIGHT SHAPE #######################\n",
    "        opticalflow = batch[\"opticalflow\"]\n",
    "        original_batch_size, original_seq_len = opticalflow.shape[:2]\n",
    "        \n",
    "        # Select just one channel for now\n",
    "        opticalflow = opticalflow[:, :, 7:8]\n",
    "        \n",
    "        # Reshape so each timestep is seen as a separate example\n",
    "        opticalflow = einops.rearrange(opticalflow, \"b t c h w -> (b t) c h w\")\n",
    "        \n",
    "        # Take 4x4 patches of pixels:\n",
    "        # Adapted from https://github.com/openclimatefix/satflow/blob/main/satflow/models/utils.py#L54\n",
    "        opticalflow = einops.rearrange(opticalflow, \"b c (h dh) (w dw) -> b c h w (dh dw)\", dh=4, dw=4)\n",
    "        \n",
    "        # Concat position encoding for the height and width:\n",
    "        b, c, h, w, d = opticalflow.shape\n",
    "        opticalflow = torch.cat(\n",
    "            (\n",
    "                opticalflow,\n",
    "                # Position encode the height:\n",
    "                # (\"d\" is the dimensionality of the Perceiver model)\n",
    "                einops.repeat(self.position_encoding, \"h d -> b c h w d\", b=b, c=c, w=w),\n",
    "                # Position encode the width:\n",
    "                einops.repeat(self.position_encoding, \"w d -> b c h w d\", b=b, c=c, h=h),\n",
    "            ),\n",
    "            dim=-1)\n",
    "        # opticalflow now has shape: b, c, h, w, d_model, e.g. 128, 1, 6, 6, 32\n",
    "        \n",
    "        # Reshape into batch_size, perceiver row, d_model ready for the perceiver\n",
    "        opticalflow = einops.rearrange(opticalflow, \"b c h w d -> b (c h w) d\")\n",
    "        \n",
    "        #######################################################\n",
    "        # CROSS ATTENTION! ####################################\n",
    "        s = opticalflow.size(1)\n",
    "        query = einops.repeat(self.query, \"d -> b s d\", b=b, s=s)\n",
    "        attn_output, attn_weights = self.cross_attention(query, key=opticalflow, value=opticalflow, need_weights=False)\n",
    "        del attn_weights  # Not used yet.\n",
    "        \n",
    "        # LATENT TRANSFORMER\n",
    "        attn_output = self.latent_transformer(attn_output)\n",
    "        \n",
    "        # LINEAR LAYERS\n",
    "        out = self.output_layers(einops.rearrange(attn_output, \"b s d -> b (s d)\"))\n",
    "        \n",
    "        # Reshape back to b, t, 1\n",
    "        return einops.rearrange(out, \"(b t) 1 -> b t 1\", b=original_batch_size, t=original_seq_len)\n",
    "    \n",
    "    def training_step(self, batch, batch_idx):\n",
    "        actual_gsp_power = batch[\"gsp\"].unsqueeze(-1)\n",
    "        predicted_gsp_power = self(batch)\n",
    "        loss = F.mse_loss(predicted_gsp_power, actual_gsp_power)\n",
    "        return loss\n",
    "    \n",
    "    def configure_optimizers(self):\n",
    "        optimizer = torch.optim.Adam(self.parameters(), lr=1e-3)\n",
    "        return optimizer"
   ]
  },
  {
   "cell_type": "code",
   "execution_count": 28,
   "id": "f39303e4-d885-48b4-ac62-77b2da663704",
   "metadata": {},
   "outputs": [],
   "source": [
    "model = Model()"
   ]
  },
  {
   "cell_type": "code",
   "execution_count": 29,
   "id": "e60d1467-66e3-482e-855b-33af3f798b73",
   "metadata": {},
   "outputs": [
    {
     "data": {
      "text/plain": [
       "torch.Size([32, 4, 1])"
      ]
     },
     "execution_count": 29,
     "metadata": {},
     "output_type": "execute_result"
    }
   ],
   "source": [
    "model(batch).shape"
   ]
  },
  {
   "cell_type": "code",
   "execution_count": null,
   "id": "bd1d9279-4479-4801-ae96-2ae4ba829f40",
   "metadata": {},
   "outputs": [
    {
     "name": "stderr",
     "output_type": "stream",
     "text": [
      "GPU available: True, used: True\n",
      "TPU available: False, using: 0 TPU cores\n",
      "IPU available: False, using: 0 IPUs\n",
      "LOCAL_RANK: 0 - CUDA_VISIBLE_DEVICES: [0,1,2]\n",
      "\n",
      "  | Name               | Type               | Params\n",
      "----------------------------------------------------------\n",
      "0 | cross_attention    | MultiheadAttention | 41.5 K\n",
      "1 | latent_transformer | TransformerEncoder | 2.4 M \n",
      "2 | output_layers      | Sequential         | 623 K \n",
      "----------------------------------------------------------\n",
      "3.0 M     Trainable params\n",
      "0         Non-trainable params\n",
      "3.0 M     Total params\n",
      "12.147    Total estimated model params size (MB)\n"
     ]
    },
    {
     "name": "stdout",
     "output_type": "stream",
     "text": [
      "Epoch 0:   2%|███▍                                                                                                                                                                  | 82/4000 [01:23<1:06:07,  1.01s/it, loss=0.0433, v_num=2]\n",
      "Epoch 0:   2%|███▍                                                                                                                                                                  | 82/4000 [01:23<1:06:10,  1.01s/it, loss=0.0433, v_num=2]\n",
      "Epoch 0:   2%|███▍                                                                                                                                                                  | 82/4000 [01:23<1:06:15,  1.01s/it, loss=0.0433, v_num=2]\n",
      "Epoch 0:   2%|███▍                                                                                                                                                                  | 82/4000 [01:23<1:06:17,  1.02s/it, loss=0.0433, v_num=2]\n",
      "Epoch 0:   2%|███▍                                                                                                                                                                  | 82/4000 [01:23<1:06:19,  1.02s/it, loss=0.0433, v_num=2]\n",
      "Epoch 0:   2%|███▍                                                                                                                                                                  | 82/4000 [01:23<1:06:21,  1.02s/it, loss=0.0433, v_num=2]\n",
      "Epoch 0:   2%|███▍                                                                                                                                                                  | 82/4000 [01:23<1:06:23,  1.02s/it, loss=0.0433, v_num=2]\n",
      "Epoch 0:   2%|███▍                                                                                                                                                                  | 82/4000 [01:23<1:06:26,  1.02s/it, loss=0.0433, v_num=2]\n",
      "Epoch 0:  69%|██████████████████████████████████████████████████████████████████████████████████████████████████████████████████▏                                                   | 2752/4000 [06:07<02:46,  7.49it/s, loss=0.0394, v_num=3]"
     ]
    }
   ],
   "source": [
    "trainer = pl.Trainer(gpus=1)\n",
    "trainer.fit(model, train_dataloader)"
   ]
  },
  {
   "cell_type": "code",
   "execution_count": null,
   "id": "5467784e-8891-4e15-a418-27d33f366e83",
   "metadata": {},
   "outputs": [],
   "source": []
  }
 ],
 "metadata": {
  "kernelspec": {
   "display_name": "predict_pv_yield",
   "language": "python",
   "name": "predict_pv_yield"
  },
  "language_info": {
   "codemirror_mode": {
    "name": "ipython",
    "version": 3
   },
   "file_extension": ".py",
   "mimetype": "text/x-python",
   "name": "python",
   "nbconvert_exporter": "python",
   "pygments_lexer": "ipython3",
   "version": "3.9.7"
  }
 },
 "nbformat": 4,
 "nbformat_minor": 5
}
